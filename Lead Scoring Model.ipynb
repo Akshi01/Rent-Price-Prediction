{
 "cells": [
  {
   "cell_type": "markdown",
   "id": "54983873",
   "metadata": {},
   "source": [
    "### Problem statement"
   ]
  },
  {
   "cell_type": "markdown",
   "id": "18eab71f",
   "metadata": {},
   "source": [
    "An education company named X Education sells online courses to industry professionals.\n",
    "\n",
    "The typical lead conversion rate at X Education is between 30%-40%. The CEO wishes to see the lead conversion rate increase to around 80%.\n",
    "\n",
    "Develop a lead scoring model using a leads dataset from the past with around 9000 data points and various attributes such as Lead Source, Total Time Spent on Website, Total Visits, Last Activity, etc.\n",
    "\n",
    "- Lead Source: The source of the lead. Includes Google, Organic Search, Olark Chat, etc.\n",
    "- Do Not Email: An indicator variable selected by the customer wherein they select whether of not they want to be emailed about the course or not.\n",
    "- Do Not Call: An indicator variable selected by the customer wherein they select whether of not they want to be called about the course or not.\n",
    "- Converted: The target variable. Indicates whether a lead has been successfully converted or not.\n",
    "- TotalVisit: The total number of visits made by the customer on the website.\n",
    "- Page Views Per Visit: The total number of visits made by the customer on the website.\n",
    "- Last Activity: Last activity performed by the customer. Includes Email Opened, Olark Chat Conversation, etc.\n",
    "- Country: The country of the customer.\n",
    "- Search: Indicating whether the customer had seen the ad in any of the listed items (i.e. during a web search).\n",
    "- Magazine: Indicating whether the customer had seen the ad in any of the listed items (i.e. in a magazine).\n",
    "- Newspaper Article: Indicating whether the customer had seen the ad in any of the listed items (i.e. in a newspaper article).\n",
    "- X Education Forums: Indicating whether the customer had seen the ad in any of the listed items (i.e. in a X Education forum).\n",
    "- Newspaper: Indicating whether the customer had seen the ad in any of the listed items (i.e. in a newspaper).\n",
    "- Digital Advertisement: Indicating whether the customer had seen the ad in any of the listed items (i.e. in a digital ad).\n",
    "- Through Recommendations: Indicates whether the customer came in through recommendations.\n",
    "- Receive More Updates About Our Courses: Indicates whether the customer chose to receive more updates about the courses.\n",
    "- Specialization: The industry domain in which the customer worked before. Includes the level 'Select Specialization' which means the customer had not selected this option while filling the form.\n",
    "- How did you hear about X Education: The source from which the customer heard about X Education.\n",
    "- What is your current occupation: Indicates whether the customer is a student, umemployed or employed.\n",
    "- What matters most to you in choosing a course: An option selected by the customer indicating what is their main motto behind doing this course.\n",
    "- Update me on Supply Chain Content: Indicates whether the customer wants updates on the Supply Chain Content.\n",
    "- Get updates on DM Content: Indicates whether the customer wants updates on the DM Content.\n",
    "- Tags: Tags assigned to customers indicating the current status of the lead.\n",
    "- Lead Quality: Indicates the quality of lead based on the data and intuition the employee who has been assigned to the lead.\n",
    "- Lead Profile: A lead level assigned to each customer based on their profile.\n",
    "- I agree to pay the amount through cheque: Indicates whether the customer has agreed to pay the amount through cheque or not.\n",
    "- A free copy of Mastering The Interview: Indicates whether the customer wants a free copy of 'Mastering the Interview' or not.\n",
    "- Asymmetrique Activity Index: An index and score assigned to each customer based on their activity and their profile.\n",
    "- Asymmetrique Profile Index: An index and score assigned to each customer based on their activity and their profile.\n",
    "- Asymmetrique Activity Score: An index and score assigned to each customer based on their activity and their profile.\n",
    "- Asymmetrique Profile Score: An index and score assigned to each customer based on their activity and their profile."
   ]
  },
  {
   "cell_type": "code",
   "execution_count": null,
   "id": "167d553a",
   "metadata": {},
   "outputs": [],
   "source": [
    "import numpy as np\n",
    "import pandas as pd\n",
    "import re\n",
    "import matplotlib.pyplot as plt\n",
    "import seaborn as sns"
   ]
  },
  {
   "cell_type": "code",
   "execution_count": null,
   "id": "125cfdc4",
   "metadata": {},
   "outputs": [],
   "source": [
    "data = pd.read_csv(r'C:\\Users\\CG Lapy 2\\Downloads\\WORK\\data_mining\\data_mining_project\\lead\\Leads X Education.csv')"
   ]
  },
  {
   "cell_type": "code",
   "execution_count": null,
   "id": "9c51eb4f",
   "metadata": {
    "scrolled": false
   },
   "outputs": [],
   "source": [
    "data.head()"
   ]
  },
  {
   "cell_type": "code",
   "execution_count": null,
   "id": "78d8b6ab",
   "metadata": {},
   "outputs": [],
   "source": [
    "data.shape"
   ]
  },
  {
   "cell_type": "code",
   "execution_count": null,
   "id": "0e37eea6",
   "metadata": {},
   "outputs": [],
   "source": [
    "data.info()"
   ]
  },
  {
   "cell_type": "code",
   "execution_count": null,
   "id": "f0f9fa1b",
   "metadata": {},
   "outputs": [],
   "source": [
    "data1 = data.copy()"
   ]
  },
  {
   "cell_type": "markdown",
   "id": "6e7a265c",
   "metadata": {},
   "source": [
    "#### Handling null values"
   ]
  },
  {
   "cell_type": "code",
   "execution_count": null,
   "id": "6229ef8d",
   "metadata": {},
   "outputs": [],
   "source": [
    "data1.isnull().sum()"
   ]
  },
  {
   "cell_type": "code",
   "execution_count": null,
   "id": "a30777f6",
   "metadata": {},
   "outputs": [],
   "source": [
    "null_values_perc = data1.isnull().sum()/len(data1)\n",
    "null_values_perc"
   ]
  },
  {
   "cell_type": "code",
   "execution_count": null,
   "id": "1cee085d",
   "metadata": {},
   "outputs": [],
   "source": [
    "#dropping columns containing more than 50% null values\n",
    "\n",
    "null_values_50 = null_values_perc[null_values_perc > 50]\n",
    "data1.drop(columns = null_values_50.index, inplace=True)\n",
    "data1.shape"
   ]
  },
  {
   "cell_type": "code",
   "execution_count": null,
   "id": "77d81058",
   "metadata": {},
   "outputs": [],
   "source": [
    "data1['Lead Source'].replace(np.nan, \"Unknown\", inplace=True)"
   ]
  },
  {
   "cell_type": "code",
   "execution_count": null,
   "id": "f4f097eb",
   "metadata": {
    "scrolled": true
   },
   "outputs": [],
   "source": [
    "data1['Do Not Call'].value_counts()"
   ]
  },
  {
   "cell_type": "code",
   "execution_count": null,
   "id": "fa90c5e4",
   "metadata": {},
   "outputs": [],
   "source": [
    "#checking the distributions of variables with null values\n",
    "\n",
    "sns.histplot(x = data1.TotalVisits);"
   ]
  },
  {
   "cell_type": "code",
   "execution_count": null,
   "id": "f036ade5",
   "metadata": {
    "scrolled": false
   },
   "outputs": [],
   "source": [
    "sns.histplot(x = data1['Page Views Per Visit']);"
   ]
  },
  {
   "cell_type": "code",
   "execution_count": null,
   "id": "7c01b2cb",
   "metadata": {},
   "outputs": [],
   "source": [
    "# above two are skewed, so we replace the null values with their median\n",
    "data1['TotalVisits'] = data1['TotalVisits'].fillna(data1['TotalVisits'].median())\n",
    "data1['Page Views Per Visit'] = data1['Page Views Per Visit'].fillna(data1['Page Views Per Visit'].median())"
   ]
  },
  {
   "cell_type": "code",
   "execution_count": null,
   "id": "c1b87443",
   "metadata": {},
   "outputs": [],
   "source": [
    "data1['Last Activity'] = data1['Last Activity'].fillna(\"None\")"
   ]
  },
  {
   "cell_type": "code",
   "execution_count": null,
   "id": "d6782eaa",
   "metadata": {},
   "outputs": [],
   "source": [
    "data1['City'].unique()"
   ]
  },
  {
   "cell_type": "code",
   "execution_count": null,
   "id": "266b7451",
   "metadata": {},
   "outputs": [],
   "source": [
    "# if the city is indian then replacing null values in country with India\n",
    "indian_cities = ['Mumbai', 'Thane & Outskirts', 'Other Cities of Maharashtra']\n",
    "\n",
    "for i in data1['Country'].isnull().index:\n",
    "    if data1.loc[i,'City'] in indian_cities:\n",
    "        data1['Country'] = \"India\"\n",
    "    else:\n",
    "        data1.loc[i,'Country'] = \"Unknown\""
   ]
  },
  {
   "cell_type": "code",
   "execution_count": null,
   "id": "6760874a",
   "metadata": {},
   "outputs": [],
   "source": [
    "fields = ['Specialization', 'How did you hear about X Education']\n",
    "data1[fields] = data1[fields].replace(\"Select\", np.nan)\n",
    "data1[fields] = data1[fields].fillna(\"NA\")"
   ]
  },
  {
   "cell_type": "code",
   "execution_count": null,
   "id": "5f507ccc",
   "metadata": {},
   "outputs": [],
   "source": [
    "data1['What is your current occupation'].value_counts()"
   ]
  },
  {
   "cell_type": "code",
   "execution_count": null,
   "id": "2f41f263",
   "metadata": {},
   "outputs": [],
   "source": [
    "data1[\"City\"] = data1[\"City\"].fillna(\"Unknown\")"
   ]
  },
  {
   "cell_type": "code",
   "execution_count": null,
   "id": "66cd64ad",
   "metadata": {},
   "outputs": [],
   "source": [
    "data1['What is your current occupation'] = data1['What is your current occupation'].fillna(\"NA\")"
   ]
  },
  {
   "cell_type": "code",
   "execution_count": null,
   "id": "918e4f97",
   "metadata": {
    "scrolled": true
   },
   "outputs": [],
   "source": [
    "data1['Magazine'].value_counts()"
   ]
  },
  {
   "cell_type": "code",
   "execution_count": null,
   "id": "f4d64625",
   "metadata": {
    "scrolled": false
   },
   "outputs": [],
   "source": [
    "data1['Newspaper Article'].value_counts()"
   ]
  },
  {
   "cell_type": "code",
   "execution_count": null,
   "id": "a25b1be4",
   "metadata": {
    "scrolled": true
   },
   "outputs": [],
   "source": [
    "data1['X Education Forums'].value_counts()"
   ]
  },
  {
   "cell_type": "code",
   "execution_count": null,
   "id": "268a1bc2",
   "metadata": {},
   "outputs": [],
   "source": [
    "data1['Newspaper'].value_counts()"
   ]
  },
  {
   "cell_type": "code",
   "execution_count": null,
   "id": "59f210ac",
   "metadata": {},
   "outputs": [],
   "source": [
    "data1['Digital Advertisement'].value_counts()"
   ]
  },
  {
   "cell_type": "code",
   "execution_count": null,
   "id": "e095d344",
   "metadata": {},
   "outputs": [],
   "source": [
    "data1['Receive More Updates About Our Courses'].value_counts()"
   ]
  },
  {
   "cell_type": "code",
   "execution_count": null,
   "id": "06384ab6",
   "metadata": {},
   "outputs": [],
   "source": [
    "data1['Get updates on DM Content'].value_counts()"
   ]
  },
  {
   "cell_type": "code",
   "execution_count": null,
   "id": "da13b19d",
   "metadata": {
    "scrolled": true
   },
   "outputs": [],
   "source": [
    "data1['I agree to pay the amount through cheque'].value_counts()"
   ]
  },
  {
   "cell_type": "code",
   "execution_count": null,
   "id": "5d36c24b",
   "metadata": {},
   "outputs": [],
   "source": [
    "data1['What matters most to you in choosing a course'].value_counts()"
   ]
  },
  {
   "cell_type": "code",
   "execution_count": null,
   "id": "20b1de00",
   "metadata": {},
   "outputs": [],
   "source": [
    "#Removing unneseccary and irrelevant columns\n",
    "\n",
    "data1.drop(['Prospect ID', 'Lead Number', 'Do Not Call', 'Magazine', 'Newspaper Article','X Education Forums','Newspaper', 'Receive More Updates About Our Courses','Update me on Supply Chain Content','Get updates on DM Content','I agree to pay the amount through cheque','Tags','Lead Quality','What matters most to you in choosing a course'], axis=1, inplace=True)"
   ]
  },
  {
   "cell_type": "code",
   "execution_count": null,
   "id": "5c124145",
   "metadata": {},
   "outputs": [],
   "source": [
    "for i in ['Do Not Email', 'Converted','Search','Through Recommendations','A free copy of Mastering The Interview']:\n",
    "    data1[i] = data[i].replace(\"Yes\" , 1)\n",
    "    data1[i] = data[i].replace(\"No\" , 0)"
   ]
  },
  {
   "cell_type": "code",
   "execution_count": null,
   "id": "dff5c618",
   "metadata": {},
   "outputs": [],
   "source": [
    "data1.drop(['Asymmetrique Activity Score','Asymmetrique Profile Score'], axis=1, inplace=True)"
   ]
  },
  {
   "cell_type": "code",
   "execution_count": null,
   "id": "1da68c25",
   "metadata": {},
   "outputs": [],
   "source": [
    "data1.dropna(inplace=True)"
   ]
  },
  {
   "cell_type": "code",
   "execution_count": null,
   "id": "c17863a7",
   "metadata": {},
   "outputs": [],
   "source": [
    "data1.columns"
   ]
  },
  {
   "cell_type": "code",
   "execution_count": null,
   "id": "c0bc8511",
   "metadata": {
    "scrolled": true
   },
   "outputs": [],
   "source": [
    "data1['Asymmetrique Profile Index'].unique()"
   ]
  },
  {
   "cell_type": "code",
   "execution_count": null,
   "id": "aa52f8ac",
   "metadata": {},
   "outputs": [],
   "source": [
    "data3 = data1.copy()\n",
    "data4 = data1.copy()"
   ]
  },
  {
   "cell_type": "code",
   "execution_count": null,
   "id": "9f8a1f7b",
   "metadata": {},
   "outputs": [],
   "source": [
    "# cleaning the values in Asymmetrique Activity Index and Asymmetrique Profile Index columns\n",
    "\n",
    "#replacing everything other than a digit to blank space\n",
    "\n",
    "def clean_score(x):\n",
    "    x = re.sub(r'[^\\d]','',x)\n",
    "    return x"
   ]
  },
  {
   "cell_type": "code",
   "execution_count": null,
   "id": "eddaa46d",
   "metadata": {},
   "outputs": [],
   "source": [
    "data1['Asymmetrique Profile Index'] = data1['Asymmetrique Profile Index'].apply(clean_score)\n"
   ]
  },
  {
   "cell_type": "code",
   "execution_count": null,
   "id": "d002a965",
   "metadata": {},
   "outputs": [],
   "source": [
    "data1['Asymmetrique Activity Index'] = data1['Asymmetrique Activity Index'].apply(clean_score)"
   ]
  },
  {
   "cell_type": "code",
   "execution_count": null,
   "id": "ebe502a0",
   "metadata": {},
   "outputs": [],
   "source": [
    "data1['Asymmetrique Activity Index'].unique()"
   ]
  },
  {
   "cell_type": "code",
   "execution_count": null,
   "id": "45f65ef2",
   "metadata": {},
   "outputs": [],
   "source": [
    "data1['Asymmetrique Profile Index'].unique()"
   ]
  },
  {
   "cell_type": "code",
   "execution_count": null,
   "id": "28cdd4c5",
   "metadata": {},
   "outputs": [],
   "source": [
    "data1['Asymmetrique Profile Index'] = data1['Asymmetrique Profile Index'].astype(int)\n",
    "data1['Asymmetrique Activity Index'] = data1['Asymmetrique Activity Index'].astype(int)"
   ]
  },
  {
   "cell_type": "code",
   "execution_count": null,
   "id": "844971ef",
   "metadata": {},
   "outputs": [],
   "source": [
    "data2 = data1.copy"
   ]
  },
  {
   "cell_type": "code",
   "execution_count": null,
   "id": "e39973a2",
   "metadata": {},
   "outputs": [],
   "source": []
  },
  {
   "cell_type": "markdown",
   "id": "9f743a73",
   "metadata": {},
   "source": [
    "### EDA"
   ]
  },
  {
   "cell_type": "code",
   "execution_count": null,
   "id": "08a30eb9",
   "metadata": {
    "scrolled": false
   },
   "outputs": [],
   "source": [
    "sns.countplot( x = data1.Converted, data = data1);"
   ]
  },
  {
   "cell_type": "code",
   "execution_count": null,
   "id": "b056ed36",
   "metadata": {},
   "outputs": [],
   "source": [
    "origin_count = data1['Lead Origin'].value_counts().sort_values(ascending=False).index\n",
    "sns.countplot(x = data1['Lead Origin'], data = data1, order = origin_count)\n",
    "\n",
    "plt.xticks(rotation = 45);"
   ]
  },
  {
   "cell_type": "code",
   "execution_count": null,
   "id": "5f282e6a",
   "metadata": {},
   "outputs": [],
   "source": [
    "source_count = data1['Lead Source'].value_counts().sort_values(ascending=False).index\n",
    "sns.countplot(x = data1['Lead Source'], data = data1, order = source_count)\n",
    "\n",
    "plt.xticks(rotation = 75);"
   ]
  },
  {
   "cell_type": "code",
   "execution_count": null,
   "id": "f0095d8c",
   "metadata": {},
   "outputs": [],
   "source": [
    "sns.countplot(x = 'Specialization', data = data1, order = data1['Specialization'].value_counts().index)\n",
    "plt.title(\"Specialization of leads\")\n",
    "plt.xticks(rotation = 90);"
   ]
  },
  {
   "cell_type": "code",
   "execution_count": null,
   "id": "1bd46b24",
   "metadata": {},
   "outputs": [],
   "source": [
    "activity = data1['Last Activity'].value_counts().index\n",
    "sns.countplot(x = 'Last Activity', data=data1, order = activity)\n",
    "plt.xticks(rotation=90);"
   ]
  },
  {
   "cell_type": "code",
   "execution_count": null,
   "id": "7d751319",
   "metadata": {},
   "outputs": [],
   "source": [
    "occupation = data1['What is your current occupation'].value_counts().index\n",
    "sns.countplot(x = 'What is your current occupation', data=data1, order = occupation)\n",
    "plt.xticks(rotation=90);"
   ]
  },
  {
   "cell_type": "code",
   "execution_count": null,
   "id": "ce7cf294",
   "metadata": {},
   "outputs": [],
   "source": [
    "city_count = data1['City'].value_counts().index\n",
    "sns.countplot(x = 'City', data=data1, order = city_count)\n",
    "plt.xticks(rotation=70);"
   ]
  },
  {
   "cell_type": "code",
   "execution_count": null,
   "id": "5e3f20bb",
   "metadata": {},
   "outputs": [],
   "source": [
    "sns.countplot(x = 'Lead Origin', data = data1, hue = 'Converted')\n",
    "plt.xticks(rotation = 45)\n",
    "plt.title(\"Distribution of Lead Origin by Conversion\");"
   ]
  },
  {
   "cell_type": "code",
   "execution_count": null,
   "id": "d5e29176",
   "metadata": {},
   "outputs": [],
   "source": [
    "sns.countplot(x = 'Lead Source', data = data1, hue = 'Converted', order = data1['Lead Source'].value_counts().index)\n",
    "plt.xticks(rotation = 90)\n",
    "plt.title(\"Distribution of Lead Source by conversion\");"
   ]
  },
  {
   "cell_type": "code",
   "execution_count": null,
   "id": "3137d054",
   "metadata": {},
   "outputs": [],
   "source": [
    "sns.countplot(x = 'Last Notable Activity', data = data1, hue = 'Converted', order = data1['Last Notable Activity'].value_counts().index)\n",
    "plt.xticks(rotation = 90)\n",
    "plt.title(\"Distribution of leads' last notable activity by conversion\");"
   ]
  },
  {
   "cell_type": "code",
   "execution_count": null,
   "id": "583fcad0",
   "metadata": {},
   "outputs": [],
   "source": [
    "data2 = data1.copy()"
   ]
  },
  {
   "cell_type": "markdown",
   "id": "450bbd29",
   "metadata": {},
   "source": [
    "### Encoding"
   ]
  },
  {
   "cell_type": "code",
   "execution_count": null,
   "id": "9bb37093",
   "metadata": {},
   "outputs": [],
   "source": [
    "#applying ohe on the remaining categorical columns\n",
    "\n",
    "# Select all categorical columns\n",
    "cat_columns = data2.select_dtypes(include=['object']).columns\n",
    "\n",
    "# Apply one-hot encoding to categorical columns\n",
    "data_encoded = pd.get_dummies(data2, columns=cat_columns)\n",
    "data_encoded.shape"
   ]
  },
  {
   "cell_type": "code",
   "execution_count": null,
   "id": "048ec33f",
   "metadata": {},
   "outputs": [],
   "source": [
    "data_encoded1 = data_encoded.copy()\n",
    "data_encoded2 = data_encoded.copy()"
   ]
  },
  {
   "cell_type": "code",
   "execution_count": null,
   "id": "f3742be8",
   "metadata": {},
   "outputs": [],
   "source": [
    "from sklearn.model_selection import train_test_split\n",
    "\n",
    "X = data_encoded.drop('Converted', axis=1)\n",
    "y = data_encoded['Converted']\n",
    "\n",
    "from sklearn.preprocessing import Normalizer\n",
    "# create the Normalizer object\n",
    "normalizer = Normalizer()\n",
    "# fit the normalizer to the data\n",
    "normalizer.fit(X)\n",
    "# transform the data\n",
    "X_normalized = normalizer.transform(X)\n",
    "\n",
    "data = pd.DataFrame(X_normalized)\n",
    "\n",
    "\n",
    "X_train, X_test, y_train, y_test = train_test_split(data, y, test_size=0.2, random_state=42)"
   ]
  },
  {
   "cell_type": "markdown",
   "id": "28509ba0",
   "metadata": {},
   "source": [
    "### Logistic Regression"
   ]
  },
  {
   "cell_type": "code",
   "execution_count": null,
   "id": "d7723c93",
   "metadata": {},
   "outputs": [],
   "source": [
    "from sklearn.linear_model import LogisticRegression\n",
    "from sklearn.metrics import precision_score, recall_score, f1_score, confusion_matrix\n",
    "\n",
    "lr = LogisticRegression()\n",
    "\n",
    "lr.fit(X_train, y_train)\n",
    "pred_prob1 = lr.predict_proba(X_test)[:,1]\n",
    "\n",
    "threshold = 0.5\n",
    "y_pred_lr = (pred_prob1 > threshold).astype(int)"
   ]
  },
  {
   "cell_type": "code",
   "execution_count": null,
   "id": "29f92688",
   "metadata": {},
   "outputs": [],
   "source": [
    "accuracy = lr.score(X_test, y_test)\n",
    "print(\"Accuracy: \", accuracy)\n",
    "\n",
    "precision = precision_score(y_test, y_pred_lr)\n",
    "print(\"precision: \", precision )\n",
    "\n",
    "recall = recall_score(y_test, y_pred_lr)\n",
    "print(\"Recall: \", recall)\n",
    "\n",
    "f1 = f1_score(y_test, y_pred_lr)\n",
    "print(\"F1 score: \", f1)"
   ]
  },
  {
   "cell_type": "code",
   "execution_count": null,
   "id": "83eb3685",
   "metadata": {},
   "outputs": [],
   "source": [
    "cm1 = confusion_matrix(y_test, y_pred_lr)\n",
    "print(cm1)"
   ]
  },
  {
   "cell_type": "code",
   "execution_count": null,
   "id": "50dc2947",
   "metadata": {},
   "outputs": [],
   "source": [
    "sns.heatmap(cm1, annot = True, cmap=sns.color_palette(\"flare\", as_cmap=True))\n",
    "plt.xlabel('Predicted label')\n",
    "plt.ylabel('True label')\n",
    "plt.title('Confusion Matrix')\n",
    "plt.show();"
   ]
  },
  {
   "cell_type": "code",
   "execution_count": null,
   "id": "3a9f7544",
   "metadata": {},
   "outputs": [],
   "source": []
  },
  {
   "cell_type": "markdown",
   "id": "7c64061d",
   "metadata": {},
   "source": [
    "### Random Forest"
   ]
  },
  {
   "cell_type": "code",
   "execution_count": null,
   "id": "79d79e4b",
   "metadata": {},
   "outputs": [],
   "source": [
    "from sklearn.ensemble import RandomForestClassifier\n",
    "\n",
    "rf = RandomForestClassifier()\n",
    "rf.fit(X_train, y_train)\n",
    "\n",
    "y_pred_rf = lr.predict(X_test)"
   ]
  },
  {
   "cell_type": "code",
   "execution_count": null,
   "id": "95f3262d",
   "metadata": {},
   "outputs": [],
   "source": [
    "accuracy_rf = rf.score(X_test, y_test)\n",
    "print(\"Accuracy: \", accuracy_rf)\n",
    "\n",
    "precision_rf = precision_score(y_test, y_pred_rf)\n",
    "print(\"precision: \", precision_rf )\n",
    "\n",
    "recall_rf = recall_score(y_test, y_pred_rf)\n",
    "print(\"Recall: \", recall_rf)\n",
    "\n",
    "f1_rf = f1_score(y_test, y_pred_rf)\n",
    "print(\"F1 score: \", f1_rf)"
   ]
  },
  {
   "cell_type": "code",
   "execution_count": null,
   "id": "0e82d5e0",
   "metadata": {},
   "outputs": [],
   "source": [
    "cm2 = confusion_matrix(y_test, y_pred_rf)\n",
    "print(cm2)"
   ]
  },
  {
   "cell_type": "code",
   "execution_count": null,
   "id": "50719708",
   "metadata": {},
   "outputs": [],
   "source": [
    "sns.heatmap(cm2, annot = True, cmap=sns.color_palette(\"flare\", as_cmap=True))\n",
    "plt.xlabel('Predicted label')\n",
    "plt.ylabel('True label')\n",
    "plt.title('Confusion Matrix')\n",
    "plt.show();"
   ]
  },
  {
   "cell_type": "code",
   "execution_count": null,
   "id": "33b08339",
   "metadata": {},
   "outputs": [],
   "source": [
    "pip install scikit-plot"
   ]
  },
  {
   "cell_type": "code",
   "execution_count": null,
   "id": "02427a40",
   "metadata": {},
   "outputs": [],
   "source": [
    "from sklearn.model_selection import GridSearchCV\n",
    "from sklearn.metrics import plot_roc_curve"
   ]
  },
  {
   "cell_type": "code",
   "execution_count": null,
   "id": "1fd31729",
   "metadata": {},
   "outputs": [],
   "source": [
    "#Fit logistic model\n",
    "parameters_lr = {'penalty': ['l1', 'l2'], 'C' : np.logspace(-3,3,5,base=10.0)}\n",
    "lr1 = LogisticRegression(solver='liblinear', random_state=123)\n",
    "\n",
    "lr_cv = GridSearchCV(lr1, param_grid=parameters_lr, cv=5, scoring='roc_auc', n_jobs=-1)\n",
    "lr_cv.fit(X_train, y_train)\n",
    "\n",
    "print(lr_cv.best_params_)\n",
    "lr_best = lr_cv.best_estimator_"
   ]
  },
  {
   "cell_type": "code",
   "execution_count": null,
   "id": "06b3fe63",
   "metadata": {},
   "outputs": [],
   "source": [
    "#Fit random forest classifier w/ hyperparameter tuning\n",
    "parameters_rf = {'max_depth':np.arange(6,30,2),'min_samples_leaf':np.arange(100,500,50)}\n",
    "rf1 = RandomForestClassifier()\n",
    "\n",
    "rf_cv = GridSearchCV(rf1, param_grid=parameters_rf, cv=5, scoring='roc_auc', n_jobs=-1)\n",
    "rf_cv.fit(X_train, y_train)\n",
    "\n",
    "print(rf_cv.best_params_)\n",
    "rf_best = rf_cv.best_estimator_"
   ]
  },
  {
   "cell_type": "code",
   "execution_count": null,
   "id": "66decd67",
   "metadata": {},
   "outputs": [],
   "source": [
    "#Plot ROC curve & AUC\n",
    "fig, axes = plt.subplots(nrows=1, ncols=2, figsize=(16, 5))\n",
    "models = {'Logistic Regression':lr_best, 'Random Forest Classifier':rf_best}\n",
    "\n",
    "for n,m in models.items():\n",
    "    plot_roc_curve(m, X_test, y_test, ax=axes[list(models.keys()).index(n)])\n",
    "    plt.sca(axes[list(models.keys()).index(n)])\n",
    "    plt.title('ROC Curve - ' + n)"
   ]
  },
  {
   "cell_type": "markdown",
   "id": "c8cdc98b",
   "metadata": {},
   "source": [
    "###### The Logistic Regression model performs better as it shows a higher curve than Random Forest Classifier"
   ]
  }
 ],
 "metadata": {
  "kernelspec": {
   "display_name": "Python 3 (ipykernel)",
   "language": "python",
   "name": "python3"
  },
  "language_info": {
   "codemirror_mode": {
    "name": "ipython",
    "version": 3
   },
   "file_extension": ".py",
   "mimetype": "text/x-python",
   "name": "python",
   "nbconvert_exporter": "python",
   "pygments_lexer": "ipython3",
   "version": "3.9.13"
  }
 },
 "nbformat": 4,
 "nbformat_minor": 5
}
